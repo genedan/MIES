{
 "cells": [
  {
   "cell_type": "code",
   "execution_count": 5,
   "metadata": {},
   "outputs": [],
   "source": [
    "#Let's generate some random numbers, these can serve as the basis for generating claims, for now\n",
    "import random\n"
   ]
  },
  {
   "cell_type": "code",
   "execution_count": 8,
   "metadata": {},
   "outputs": [
    {
     "name": "stdout",
     "output_type": "stream",
     "text": [
      "783654\n",
      "175766\n",
      "283862\n",
      "911849\n",
      "831362\n",
      "390460\n",
      "120755\n",
      "532430\n",
      "629375\n",
      "731663\n"
     ]
    }
   ],
   "source": [
    "#Say some claims are between $1 and $1 million, generate 10 of them\n",
    "for i in range(10):\n",
    "    print(random.randint(1,1000000))"
   ]
  }
 ],
 "metadata": {
  "kernelspec": {
   "display_name": "Python 3",
   "language": "python",
   "name": "python3"
  },
  "language_info": {
   "codemirror_mode": {
    "name": "ipython",
    "version": 3
   },
   "file_extension": ".py",
   "mimetype": "text/x-python",
   "name": "python",
   "nbconvert_exporter": "python",
   "pygments_lexer": "ipython3",
   "version": "3.6.8"
  }
 },
 "nbformat": 4,
 "nbformat_minor": 2
}
